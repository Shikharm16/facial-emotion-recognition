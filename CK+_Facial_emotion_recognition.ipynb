{
  "nbformat": 4,
  "nbformat_minor": 0,
  "metadata": {
    "colab": {
      "name": "CK+_Facial_emotion_recognition.ipynb",
      "version": "0.3.2",
      "provenance": [],
      "collapsed_sections": [],
      "toc_visible": true
    },
    "kernelspec": {
      "name": "python3",
      "display_name": "Python 3"
    },
    "accelerator": "GPU"
  },
  "cells": [
    {
      "cell_type": "markdown",
      "metadata": {
        "id": "XzgL6RmfBxkb",
        "colab_type": "text"
      },
      "source": [
        "# **Facial Emotion Recogniton**\n"
      ]
    },
    {
      "cell_type": "markdown",
      "metadata": {
        "id": "SnKTnnNTcCsA",
        "colab_type": "text"
      },
      "source": [
        "Facial expressions recognition system has received significant attention among researchers in recent decades mainly because of it is diversified applications, such as human computer interactions, multimedia, surveillance, treatment of mentally retarded patients, and lie detection.\n",
        "\n",
        "The study of Mehrabian  stated that to understand emotion or intention of a person, 55% of the information are conveyed through facial expressions alone, 38% through vocal cues, and the remaining 7% via verbal cues. \n",
        "\n",
        "This encourages the researchers to explore deeply in the area of facial expressions recognition and analysis (FERA). Ekman et al. asserted after extensive study over facial expressions, that facial expressions are universal and innate. \n",
        "They also concluded that six basic expressions, namely, happiness, sadness, disgust, anger, surprise, and fear are universal in nature."
      ]
    },
    {
      "cell_type": "markdown",
      "metadata": {
        "id": "ktDTaA_FceyR",
        "colab_type": "text"
      },
      "source": [
        "## Import open-cv"
      ]
    },
    {
      "cell_type": "code",
      "metadata": {
        "id": "mKb-C7WpsHAl",
        "colab_type": "code",
        "colab": {}
      },
      "source": [
        "import cv2\n",
        "from google.colab.patches import cv2_imshow\n",
        "import shutil"
      ],
      "execution_count": 0,
      "outputs": []
    },
    {
      "cell_type": "code",
      "metadata": {
        "id": "0rTjLIrRsJZR",
        "colab_type": "code",
        "colab": {}
      },
      "source": [
        "from google.colab import files\n",
        "from IPython.display import Image"
      ],
      "execution_count": 0,
      "outputs": []
    },
    {
      "cell_type": "markdown",
      "metadata": {
        "id": "E8SwDte4Ch9i",
        "colab_type": "text"
      },
      "source": [
        "### **Defining the function picture_crop which takes the argument  name of the picture as string.**\n"
      ]
    },
    {
      "cell_type": "code",
      "metadata": {
        "id": "u7KPlDn7svHt",
        "colab_type": "code",
        "colab": {}
      },
      "source": [
        "def picture_crop(pic_name):\n",
        "  \n",
        "  data=[]\n",
        "  #desc = LocalBinaryPatterns(24, 8)\n",
        "  \n",
        "  #Reading the image img as 3-dimensional metrics\n",
        "  img=cv2.imread(pic_name,1)\n",
        " \n",
        "  #converting the RGB image into gray-scale image.\n",
        "  gray = cv2.cvtColor(img, cv2.COLOR_BGR2GRAY)\n",
        "  \n",
        "  #enhancing the image by increasing contrast to the objects in the image.\n",
        "  enhanced=cv2.equalizeHist(gray)\n",
        "  \n",
        "  #making the object of cascade classifier to  detecting the facial features from the image.\n",
        "  face_cascade=cv2.CascadeClassifier(\"haarcascade_frontalface_default.xml\")\n",
        "  \n",
        "  #extracting all the coordinates of the faces present in the image.\n",
        "  faces=face_cascade.detectMultiScale(enhanced , 1.23,5)\n",
        "  \n",
        "  #making a rectangle to the detected image\n",
        "  for x,y,w,h in faces:\n",
        "    img=cv2.rectangle(enhanced,(x,y),(x+w,y+h),(0,255,0),3)\n",
        "    \n",
        "    \n",
        "    #extracting the face detected face into another 3D metrics.\n",
        "    subface=img[y:y+h,x:x+w]\n",
        "    \n",
        "    #reading the new subface metrics and converting into a new croped image (croped.png)\n",
        "    cv2.imwrite(\"croped.png\",subface)\n",
        "    final_img=cv2.imread('croped.png',0)\n",
        "   \n",
        "  \n",
        "  #cv2_imshow(data[0]) \n",
        "  return final_img"
      ],
      "execution_count": 0,
      "outputs": []
    },
    {
      "cell_type": "markdown",
      "metadata": {
        "id": "lfK2kbOS0Xhp",
        "colab_type": "text"
      },
      "source": [
        "Testing above function"
      ]
    },
    {
      "cell_type": "code",
      "metadata": {
        "id": "GBqeFpbttBPu",
        "colab_type": "code",
        "colab": {}
      },
      "source": [
        "imgg=picture_crop('Shikhar_Mahajan_.jpg')\n",
        "cv2_imshow(imgg)"
      ],
      "execution_count": 0,
      "outputs": []
    },
    {
      "cell_type": "markdown",
      "metadata": {
        "id": "b5nQz7QLFk5D",
        "colab_type": "text"
      },
      "source": [
        "## Import all the zip files and extract it."
      ]
    },
    {
      "cell_type": "markdown",
      "metadata": {
        "id": "GEgYSRKr0uEv",
        "colab_type": "text"
      },
      "source": [
        "Extracting all the 8 claases zip files."
      ]
    },
    {
      "cell_type": "code",
      "metadata": {
        "id": "6xY-mNW65Gc0",
        "colab_type": "code",
        "outputId": "8c061f50-43fe-459a-d982-7da83b519af5",
        "colab": {
          "base_uri": "https://localhost:8080/",
          "height": 34
        }
      },
      "source": [
        "from zipfile import ZipFile\n",
        "\n",
        "print(\"Zip file Extracting...  \")\n",
        "\n",
        "emot_zip=['anger.zip','fear.zip','happiness.zip','sadness.zip','contempt.zip','disgust.zip','surprise.zip','neutral.zip']\n",
        "\n",
        "for j in range(len(emot_zip)):\n",
        "  fname=emot_zip[j]\n",
        "  with ZipFile(fname,'r') as zip:\n",
        "    zip.extractall()\n",
        "    \n",
        "print(\"done\")\n",
        "  "
      ],
      "execution_count": 0,
      "outputs": [
        {
          "output_type": "stream",
          "text": [
            "done\n"
          ],
          "name": "stdout"
        }
      ]
    },
    {
      "cell_type": "markdown",
      "metadata": {
        "id": "mAfEhFKJdUaD",
        "colab_type": "text"
      },
      "source": [
        "##Labelling the Dataset"
      ]
    },
    {
      "cell_type": "code",
      "metadata": {
        "id": "5yAMUoE-KJSO",
        "colab_type": "code",
        "outputId": "560198f1-2290-43d1-ed73-053e2d7f7489",
        "colab": {
          "base_uri": "https://localhost:8080/",
          "height": 187
        }
      },
      "source": [
        "#importing opencv and glob libraries\n",
        "import cv2\n",
        "from google.colab.patches import cv2_imshow\n",
        "from glob import glob\n",
        "import numpy as np\n",
        "\n",
        "#initializing Numpy arrays\n",
        "img_pixels=np.zeros((350,48,48))\n",
        "labels=np.zeros((350,))\n",
        "\n",
        "i=0\n",
        "emotions=['anger','fear','happiness','sadness','contempt','disgust','surprise','neutral']\n",
        "print(\"Number of classes\",len(emotions))\n",
        "\n",
        "for j in range(len(emotions)):\n",
        "  \n",
        "  #Folder wise data labelling\n",
        "  print(\"Extracting.. \",emotions[j])\n",
        "  data_db=emotions[j]\n",
        "  img_dbb=glob(data_db+'/*.png')\n",
        "  \n",
        "  for k in img_dbb:\n",
        "    \n",
        "    croped_img=picture_crop(k)\n",
        "    resized=cv2.resize(croped_img,(48,48))\n",
        "    img_pixels[i]=resized\n",
        "    labels[i]=j\n",
        "    i+=1\n",
        "\n",
        "print(\"Total labelled Images  \",i)\n",
        "\n"
      ],
      "execution_count": 0,
      "outputs": [
        {
          "output_type": "stream",
          "text": [
            "Number of classes 8\n",
            "Extracting  anger_train\n",
            "Extracting  fear_train\n",
            "Extracting  happiness_train\n",
            "Extracting  sadness_train\n",
            "Extracting  contempt_train\n",
            "Extracting  disgust_train\n",
            "Extracting  surprise_train\n",
            "Extracting  neutral\n",
            "Total Train Images   350\n"
          ],
          "name": "stdout"
        }
      ]
    },
    {
      "cell_type": "markdown",
      "metadata": {
        "id": "V-IOx6cV2nxs",
        "colab_type": "text"
      },
      "source": [
        "**Training and Testing data using Sklearn library**"
      ]
    },
    {
      "cell_type": "code",
      "metadata": {
        "id": "iST0o7xuLDUL",
        "colab_type": "code",
        "colab": {}
      },
      "source": [
        "from sklearn.model_selection import train_test_split\n",
        "\n",
        "train_samples,test_samples,train_labels,test_labels=train_test_split(img_pixels,labels,test_size=0.10,random_state=1)"
      ],
      "execution_count": 0,
      "outputs": []
    },
    {
      "cell_type": "markdown",
      "metadata": {
        "id": "Pycc6-RQdKaL",
        "colab_type": "text"
      },
      "source": [
        "**Shape of Train samples and Train labels**"
      ]
    },
    {
      "cell_type": "code",
      "metadata": {
        "id": "SU-24HZCLCM4",
        "colab_type": "code",
        "outputId": "a54a9d95-5551-488b-aca9-3d7fc5eeea8d",
        "colab": {
          "base_uri": "https://localhost:8080/",
          "height": 85
        }
      },
      "source": [
        "print((train_samples.shape))\n",
        "print((test_samples.shape))\n",
        "print(train_labels.shape)\n",
        "print(test_labels.shape)"
      ],
      "execution_count": 0,
      "outputs": [
        {
          "output_type": "stream",
          "text": [
            "(315, 48, 48)\n",
            "(35, 48, 48)\n",
            "(315,)\n",
            "(35,)\n"
          ],
          "name": "stdout"
        }
      ]
    },
    {
      "cell_type": "markdown",
      "metadata": {
        "id": "eBUz8lRphYN-",
        "colab_type": "text"
      },
      "source": [
        "**Convert Data type as float**"
      ]
    },
    {
      "cell_type": "code",
      "metadata": {
        "id": "JkRoTNzeTJ3y",
        "colab_type": "code",
        "outputId": "043ebd8d-b91e-4610-dc7d-77c12665f32d",
        "colab": {
          "base_uri": "https://localhost:8080/",
          "height": 51
        }
      },
      "source": [
        "def convert_dtype(x):\n",
        "    \n",
        "    x_float = x.astype('float32')\n",
        "    return x_float\n",
        "\n",
        "train_samples = convert_dtype(train_samples)\n",
        "test_samples = convert_dtype(test_samples)\n",
        "print(train_samples.shape)\n",
        "print(test_samples.shape)"
      ],
      "execution_count": 0,
      "outputs": [
        {
          "output_type": "stream",
          "text": [
            "(315, 48, 48)\n",
            "(35, 48, 48)\n"
          ],
          "name": "stdout"
        }
      ]
    },
    {
      "cell_type": "markdown",
      "metadata": {
        "id": "kBLwl4G_heEG",
        "colab_type": "text"
      },
      "source": [
        "**Normalizing the data**"
      ]
    },
    {
      "cell_type": "code",
      "metadata": {
        "id": "gNi6Yx59UjNy",
        "colab_type": "code",
        "outputId": "b38105ac-ad5d-4562-9d24-3b24e74d2b3d",
        "colab": {
          "base_uri": "https://localhost:8080/",
          "height": 51
        }
      },
      "source": [
        "def normalize(x):\n",
        "    \n",
        "    x_n=x/255\n",
        "    return x_n\n",
        "    \n",
        "train_samples = normalize(train_samples)\n",
        "test_samples = normalize(test_samples)\n",
        "print(train_samples.shape)\n",
        "print(test_samples.shape)"
      ],
      "execution_count": 0,
      "outputs": [
        {
          "output_type": "stream",
          "text": [
            "(315, 48, 48)\n",
            "(35, 48, 48)\n"
          ],
          "name": "stdout"
        }
      ]
    },
    {
      "cell_type": "markdown",
      "metadata": {
        "id": "6l69Znoohhli",
        "colab_type": "text"
      },
      "source": [
        "**One-hot Encoding of samples**"
      ]
    },
    {
      "cell_type": "code",
      "metadata": {
        "id": "MS3yneXhYBfq",
        "colab_type": "code",
        "outputId": "b959c268-a198-4253-e82e-015e480caaf3",
        "colab": {
          "base_uri": "https://localhost:8080/",
          "height": 51
        }
      },
      "source": [
        "def oneHot(y, Ny):\n",
        "    \n",
        "    from keras.utils import to_categorical\n",
        "    y_oh=to_categorical(y,Ny)\n",
        "    return y_oh\n",
        "\n",
        "\n",
        "train_labels = oneHot(train_labels, 8)\n",
        "test_labels = oneHot(test_labels, 8)\n",
        "print(train_labels.shape)\n",
        "print(test_labels.shape)"
      ],
      "execution_count": 0,
      "outputs": [
        {
          "output_type": "stream",
          "text": [
            "(315, 8)\n",
            "(35, 8)\n"
          ],
          "name": "stdout"
        }
      ]
    },
    {
      "cell_type": "markdown",
      "metadata": {
        "id": "r7WKr2mOiC9P",
        "colab_type": "text"
      },
      "source": [
        "**Reshaping numpy array of Images.**"
      ]
    },
    {
      "cell_type": "code",
      "metadata": {
        "id": "YfzmyVETwhqH",
        "colab_type": "code",
        "outputId": "5f043ef3-3e31-4b62-85d1-e1faa78fee5a",
        "colab": {
          "base_uri": "https://localhost:8080/",
          "height": 85
        }
      },
      "source": [
        "def reshape(x):\n",
        "    \n",
        "    print(x.shape)\n",
        "    x_r=x.reshape(x.shape[0], x.shape[1], x.shape[2], 1)\n",
        "    return x_r\n",
        "\n",
        "train_samples = reshape(train_samples)\n",
        "print(train_samples.shape)\n",
        "\n",
        "test_samples = reshape(test_samples)\n",
        "print(test_samples.shape)"
      ],
      "execution_count": 0,
      "outputs": [
        {
          "output_type": "stream",
          "text": [
            "(315, 48, 48)\n",
            "(315, 48, 48, 1)\n",
            "(35, 48, 48)\n",
            "(35, 48, 48, 1)\n"
          ],
          "name": "stdout"
        }
      ]
    },
    {
      "cell_type": "markdown",
      "metadata": {
        "id": "HVgtX5OpiIa5",
        "colab_type": "text"
      },
      "source": [
        "## Model using convolution theorm"
      ]
    },
    {
      "cell_type": "code",
      "metadata": {
        "id": "vO8LoPTmvTgL",
        "colab_type": "code",
        "colab": {}
      },
      "source": [
        "#importing neural network library\n",
        "import keras\n",
        "from keras.layers import Dense,Flatten\n",
        "from keras.layers import Conv2D, MaxPooling2D, AveragePooling2D\n",
        "from keras.models import Sequential\n",
        "from keras.layers.normalization import BatchNormalization\n",
        "from keras.regularizers import l2\n",
        "from keras.layers import Activation\n",
        "from keras.layers import Dropout\n",
        "\n",
        "\n",
        "def create_model():\n",
        "    \n",
        "    model=Sequential()\n",
        "    \n",
        "    #CNN layers\n",
        "    model.add(Conv2D(32, (3, 3), activation='relu', input_shape=(48, 48, 1), kernel_regularizer=l2(0.02)))\n",
        "    model.add(Conv2D(32, (3, 3), padding='same',activation='relu'))\n",
        "    model.add(BatchNormalization())\n",
        "    model.add(MaxPooling2D(pool_size=(2,2), strides=(2, 2)))\n",
        "    model.add(Dropout(0.2))    \n",
        "    \n",
        "    \n",
        "    model.add(Conv2D(64, (3, 3), padding='same', activation='relu'))\n",
        "    model.add(BatchNormalization())\n",
        "    model.add(Conv2D(64, (3, 3), padding='same', activation='relu'))\n",
        "    model.add(BatchNormalization())\n",
        "    model.add(MaxPooling2D(pool_size=(2,2)))\n",
        "    model.add(Dropout(0.2))  \n",
        "    \n",
        "    model.add(Conv2D(128, (3, 3), padding='same', activation='relu'))\n",
        "    model.add(BatchNormalization())\n",
        "    model.add(Conv2D(128, (3, 3), padding='same', activation='relu'))\n",
        "    model.add(MaxPooling2D(pool_size=(2,2)))\n",
        "    \n",
        "    model.add(Flatten())\n",
        "    \n",
        "    #dense layers\n",
        "    model.add(Dense(128, activation='relu'))\n",
        "    model.add(Dropout(0.2))\n",
        "    model.add(Dense(8, activation='softmax'))\n",
        "    \n",
        "    \n",
        "    model.compile(optimizer='adam',loss='binary_crossentropy',metrics=['accuracy'])\n",
        "    return model\n",
        "\n",
        "model = create_model()"
      ],
      "execution_count": 0,
      "outputs": []
    },
    {
      "cell_type": "markdown",
      "metadata": {
        "id": "pE3ktalZ3HdA",
        "colab_type": "text"
      },
      "source": [
        "**Model Summary**"
      ]
    },
    {
      "cell_type": "code",
      "metadata": {
        "id": "WOnKzp0lxHf4",
        "colab_type": "code",
        "outputId": "395a5e82-2b4e-4c17-aa76-a01c633cd2a6",
        "colab": {
          "base_uri": "https://localhost:8080/",
          "height": 782
        }
      },
      "source": [
        "model.summary()"
      ],
      "execution_count": 0,
      "outputs": [
        {
          "output_type": "stream",
          "text": [
            "_________________________________________________________________\n",
            "Layer (type)                 Output Shape              Param #   \n",
            "=================================================================\n",
            "conv2d_37 (Conv2D)           (None, 46, 46, 32)        320       \n",
            "_________________________________________________________________\n",
            "conv2d_38 (Conv2D)           (None, 46, 46, 32)        9248      \n",
            "_________________________________________________________________\n",
            "batch_normalization_25 (Batc (None, 46, 46, 32)        128       \n",
            "_________________________________________________________________\n",
            "max_pooling2d_19 (MaxPooling (None, 23, 23, 32)        0         \n",
            "_________________________________________________________________\n",
            "dropout_19 (Dropout)         (None, 23, 23, 32)        0         \n",
            "_________________________________________________________________\n",
            "conv2d_39 (Conv2D)           (None, 23, 23, 64)        18496     \n",
            "_________________________________________________________________\n",
            "batch_normalization_26 (Batc (None, 23, 23, 64)        256       \n",
            "_________________________________________________________________\n",
            "conv2d_40 (Conv2D)           (None, 23, 23, 64)        36928     \n",
            "_________________________________________________________________\n",
            "batch_normalization_27 (Batc (None, 23, 23, 64)        256       \n",
            "_________________________________________________________________\n",
            "max_pooling2d_20 (MaxPooling (None, 11, 11, 64)        0         \n",
            "_________________________________________________________________\n",
            "dropout_20 (Dropout)         (None, 11, 11, 64)        0         \n",
            "_________________________________________________________________\n",
            "conv2d_41 (Conv2D)           (None, 11, 11, 128)       73856     \n",
            "_________________________________________________________________\n",
            "batch_normalization_28 (Batc (None, 11, 11, 128)       512       \n",
            "_________________________________________________________________\n",
            "conv2d_42 (Conv2D)           (None, 11, 11, 128)       147584    \n",
            "_________________________________________________________________\n",
            "max_pooling2d_21 (MaxPooling (None, 5, 5, 128)         0         \n",
            "_________________________________________________________________\n",
            "flatten_7 (Flatten)          (None, 3200)              0         \n",
            "_________________________________________________________________\n",
            "dense_13 (Dense)             (None, 128)               409728    \n",
            "_________________________________________________________________\n",
            "dropout_21 (Dropout)         (None, 128)               0         \n",
            "_________________________________________________________________\n",
            "dense_14 (Dense)             (None, 8)                 1032      \n",
            "=================================================================\n",
            "Total params: 698,344\n",
            "Trainable params: 697,768\n",
            "Non-trainable params: 576\n",
            "_________________________________________________________________\n"
          ],
          "name": "stdout"
        }
      ]
    },
    {
      "cell_type": "markdown",
      "metadata": {
        "id": "qukUHAm7ibNy",
        "colab_type": "text"
      },
      "source": [
        "### Model Fitting"
      ]
    },
    {
      "cell_type": "code",
      "metadata": {
        "id": "l6jbn1txvh_R",
        "colab_type": "code",
        "outputId": "2b4503c6-08db-4201-8536-553ec0316c02",
        "colab": {
          "base_uri": "https://localhost:8080/",
          "height": 564
        }
      },
      "source": [
        "history = model.fit(train_samples, train_labels, validation_split = 0.1, epochs=15, batch_size=20)"
      ],
      "execution_count": 0,
      "outputs": [
        {
          "output_type": "stream",
          "text": [
            "Train on 283 samples, validate on 32 samples\n",
            "Epoch 1/15\n",
            "283/283 [==============================] - 3s 10ms/step - loss: 0.6638 - acc: 0.8339 - val_loss: 0.3759 - val_acc: 0.8789\n",
            "Epoch 2/15\n",
            "283/283 [==============================] - 0s 678us/step - loss: 0.3626 - acc: 0.8852 - val_loss: 0.3303 - val_acc: 0.9062\n",
            "Epoch 3/15\n",
            "283/283 [==============================] - 0s 578us/step - loss: 0.3386 - acc: 0.8953 - val_loss: 0.3173 - val_acc: 0.9062\n",
            "Epoch 4/15\n",
            "283/283 [==============================] - 0s 562us/step - loss: 0.2990 - acc: 0.9086 - val_loss: 0.3114 - val_acc: 0.8789\n",
            "Epoch 5/15\n",
            "283/283 [==============================] - 0s 562us/step - loss: 0.2731 - acc: 0.9125 - val_loss: 0.3037 - val_acc: 0.8867\n",
            "Epoch 6/15\n",
            "283/283 [==============================] - 0s 593us/step - loss: 0.2718 - acc: 0.9112 - val_loss: 0.2864 - val_acc: 0.9023\n",
            "Epoch 7/15\n",
            "283/283 [==============================] - 0s 549us/step - loss: 0.2485 - acc: 0.9201 - val_loss: 0.2610 - val_acc: 0.9062\n",
            "Epoch 8/15\n",
            "283/283 [==============================] - 0s 548us/step - loss: 0.2241 - acc: 0.9307 - val_loss: 0.2677 - val_acc: 0.9141\n",
            "Epoch 9/15\n",
            "283/283 [==============================] - 0s 565us/step - loss: 0.2104 - acc: 0.9289 - val_loss: 0.2678 - val_acc: 0.9102\n",
            "Epoch 10/15\n",
            "283/283 [==============================] - 0s 560us/step - loss: 0.1958 - acc: 0.9404 - val_loss: 0.2507 - val_acc: 0.9062\n",
            "Epoch 11/15\n",
            "283/283 [==============================] - 0s 553us/step - loss: 0.1876 - acc: 0.9404 - val_loss: 0.3045 - val_acc: 0.8789\n",
            "Epoch 12/15\n",
            "283/283 [==============================] - 0s 581us/step - loss: 0.1763 - acc: 0.9421 - val_loss: 0.2604 - val_acc: 0.9180\n",
            "Epoch 13/15\n",
            "283/283 [==============================] - 0s 563us/step - loss: 0.1888 - acc: 0.9368 - val_loss: 0.2859 - val_acc: 0.9023\n",
            "Epoch 14/15\n",
            "283/283 [==============================] - 0s 556us/step - loss: 0.1714 - acc: 0.9390 - val_loss: 0.2963 - val_acc: 0.8945\n",
            "Epoch 15/15\n",
            "283/283 [==============================] - 0s 550us/step - loss: 0.1567 - acc: 0.9505 - val_loss: 0.2870 - val_acc: 0.9062\n"
          ],
          "name": "stdout"
        }
      ]
    },
    {
      "cell_type": "markdown",
      "metadata": {
        "id": "AO3dEemCij_c",
        "colab_type": "text"
      },
      "source": [
        "### Predict Class from Model"
      ]
    },
    {
      "cell_type": "code",
      "metadata": {
        "id": "-kfuh7zNG9Y8",
        "colab_type": "code",
        "outputId": "1e9f8ae9-15fc-42fd-cc6c-0db12ff89f15",
        "colab": {
          "base_uri": "https://localhost:8080/",
          "height": 34
        }
      },
      "source": [
        "y=model.predict(test_samples)\n",
        "print(y.shape)"
      ],
      "execution_count": 0,
      "outputs": [
        {
          "output_type": "stream",
          "text": [
            "(35, 8)\n"
          ],
          "name": "stdout"
        }
      ]
    },
    {
      "cell_type": "markdown",
      "metadata": {
        "id": "S4B_pabnipYU",
        "colab_type": "text"
      },
      "source": [
        "## Confusion metrics"
      ]
    },
    {
      "cell_type": "code",
      "metadata": {
        "id": "UUDJ1mkXHPpr",
        "colab_type": "code",
        "outputId": "ee6a6749-d7ee-4053-fdec-97ceba978b9d",
        "colab": {
          "base_uri": "https://localhost:8080/",
          "height": 153
        }
      },
      "source": [
        "from sklearn.metrics import confusion_matrix\n",
        "  \n",
        "cm = confusion_matrix(test_labels.argmax(axis=1), y.argmax(axis=1))\n",
        "#print(cm)\n",
        "                  "
      ],
      "execution_count": 0,
      "outputs": [
        {
          "output_type": "stream",
          "text": [
            "[[ 1  1  0  0  0  0  0  1]\n",
            " [ 0  0  0  0  0  0  0  0]\n",
            " [ 0  2  6  0  0  0  0  0]\n",
            " [ 1  0  0  0  0  0  0  0]\n",
            " [ 0  0  0  0  0  0  0  1]\n",
            " [ 2  0  0  0  0  5  0  1]\n",
            " [ 0  0  0  0  0  0 10  0]\n",
            " [ 0  0  0  0  0  0  0  4]]\n"
          ],
          "name": "stdout"
        }
      ]
    },
    {
      "cell_type": "markdown",
      "metadata": {
        "id": "jznLPXgPiuLg",
        "colab_type": "text"
      },
      "source": [
        "## Loss and Accuracy"
      ]
    },
    {
      "cell_type": "code",
      "metadata": {
        "id": "qFYkNYIXIK5m",
        "colab_type": "code",
        "outputId": "7c6fc97f-d2e6-4e26-c496-b4e7101407d9",
        "colab": {
          "base_uri": "https://localhost:8080/",
          "height": 34
        }
      },
      "source": [
        "loss,acc=model.evaluate(test_samples, test_labels,verbose=0)\n",
        "print(\"loss : \",loss)\n",
        "print(\"Accuracy : \",acc*100)"
      ],
      "execution_count": 0,
      "outputs": [
        {
          "output_type": "stream",
          "text": [
            "0.15566854711089814 0.9464285714285714\n"
          ],
          "name": "stdout"
        }
      ]
    },
    {
      "cell_type": "markdown",
      "metadata": {
        "id": "lWArihgLjHJN",
        "colab_type": "text"
      },
      "source": [
        "# **Real Time Data Using WebCam**"
      ]
    },
    {
      "cell_type": "markdown",
      "metadata": {
        "id": "RN9XW5083-ZY",
        "colab_type": "text"
      },
      "source": [
        "Using javascript frame for accessing web cam"
      ]
    },
    {
      "cell_type": "code",
      "metadata": {
        "id": "kCCHGhJvwLYN",
        "colab_type": "code",
        "colab": {}
      },
      "source": [
        "from IPython.display import display, Javascript\n",
        "from google.colab.output import eval_js\n",
        "from base64 import b64decode\n",
        "\n",
        "def take_photo(filename='photo34.png', quality=0.8):\n",
        "  js = Javascript('''\n",
        "    async function takePhoto(quality) {\n",
        "      const div = document.createElement('div');\n",
        "      const capture = document.createElement('button');\n",
        "      capture.textContent = 'Capture';\n",
        "      div.appendChild(capture);\n",
        "\n",
        "      const video = document.createElement('video');\n",
        "      video.style.display = 'block';\n",
        "      const stream = await navigator.mediaDevices.getUserMedia({video: true});\n",
        "\n",
        "      document.body.appendChild(div);\n",
        "      div.appendChild(video);\n",
        "      video.srcObject = stream;\n",
        "      await video.play();\n",
        "\n",
        "      // Resize the output to fit the video element.\n",
        "      google.colab.output.setIframeHeight(document.documentElement.scrollHeight, true);\n",
        "\n",
        "      // Wait for Capture to be clicked.\n",
        "      await new Promise((resolve) => capture.onclick = resolve);\n",
        "\n",
        "      const canvas = document.createElement('canvas');\n",
        "      canvas.width = video.videoWidth;\n",
        "      canvas.height = video.videoHeight;\n",
        "      canvas.getContext('2d').drawImage(video, 0, 0);\n",
        "      stream.getVideoTracks()[0].stop();\n",
        "      div.remove();\n",
        "      return canvas.toDataURL('image/jpeg', quality);\n",
        "    }\n",
        "    ''')\n",
        "  display(js)\n",
        "  data = eval_js('takePhoto({})'.format(quality))\n",
        "  binary = b64decode(data.split(',')[1])\n",
        "  with open(filename, 'wb') as f:\n",
        "    f.write(binary)\n",
        "  return filename\n",
        "\n",
        "\n"
      ],
      "execution_count": 0,
      "outputs": []
    },
    {
      "cell_type": "markdown",
      "metadata": {
        "id": "uIl966mB41h4",
        "colab_type": "text"
      },
      "source": [
        "# Testing on real Time data"
      ]
    },
    {
      "cell_type": "markdown",
      "metadata": {
        "id": "stBK98hY7bf7",
        "colab_type": "text"
      },
      "source": [
        "**TEST: 1**"
      ]
    },
    {
      "cell_type": "code",
      "metadata": {
        "id": "xkO1vTDvT75g",
        "colab_type": "code",
        "outputId": "1b5b4835-16ce-4c47-dc25-f58b3cdd4a8e",
        "colab": {
          "base_uri": "https://localhost:8080/",
          "height": 303
        }
      },
      "source": [
        "take_photo()\n",
        "\n",
        "result=['anger','fear','happiness','sadness','contempt','disgust','surprise','neutral']\n",
        "web_pic=picture_crop('photo34.png')\n",
        "\n",
        "cv2_imshow(web_pic)\n",
        "res=cv2.resize(web_pic,(48,48))\n",
        "\n",
        "sample = convert_dtype(res)\n",
        "sample = normalize(sample)\n",
        "sample=sample.reshape((1,48,48))\n",
        "\n",
        "sample = reshape(sample)\n",
        "\n",
        "yoyo=model.predict(sample)\n",
        "g24=yoyo.argmax(axis=1)\n",
        "print(result[g24[0]])"
      ],
      "execution_count": 0,
      "outputs": [
        {
          "output_type": "display_data",
          "data": {
            "application/javascript": [
              "\n",
              "    async function takePhoto(quality) {\n",
              "      const div = document.createElement('div');\n",
              "      const capture = document.createElement('button');\n",
              "      capture.textContent = 'Capture';\n",
              "      div.appendChild(capture);\n",
              "\n",
              "      const video = document.createElement('video');\n",
              "      video.style.display = 'block';\n",
              "      const stream = await navigator.mediaDevices.getUserMedia({video: true});\n",
              "\n",
              "      document.body.appendChild(div);\n",
              "      div.appendChild(video);\n",
              "      video.srcObject = stream;\n",
              "      await video.play();\n",
              "\n",
              "      // Resize the output to fit the video element.\n",
              "      google.colab.output.setIframeHeight(document.documentElement.scrollHeight, true);\n",
              "\n",
              "      // Wait for Capture to be clicked.\n",
              "      await new Promise((resolve) => capture.onclick = resolve);\n",
              "\n",
              "      const canvas = document.createElement('canvas');\n",
              "      canvas.width = video.videoWidth;\n",
              "      canvas.height = video.videoHeight;\n",
              "      canvas.getContext('2d').drawImage(video, 0, 0);\n",
              "      stream.getVideoTracks()[0].stop();\n",
              "      div.remove();\n",
              "      return canvas.toDataURL('image/jpeg', quality);\n",
              "    }\n",
              "    "
            ],
            "text/plain": [
              "<IPython.core.display.Javascript object>"
            ]
          },
          "metadata": {
            "tags": []
          }
        },
        {
          "output_type": "display_data",
          "data": {
            "image/png": "[encoded data removed]",
            "text/plain": [
              "<PIL.Image.Image image mode=L size=252x252 at 0x7FA040057240>"
            ]
          },
          "metadata": {
            "tags": []
          }
        },
        {
          "output_type": "stream",
          "text": [
            "(1, 48, 48)\n",
            "anger\n"
          ],
          "name": "stdout"
        }
      ]
    },
    {
      "cell_type": "code",
      "metadata": {
        "id": "F_CaCuZZ_xSI",
        "colab_type": "code",
        "outputId": "a54e2585-9e89-4852-ff86-37f6da4b5dcf",
        "colab": {
          "base_uri": "https://localhost:8080/",
          "height": 34
        }
      },
      "source": [
        "shutil.move(\"photo33.png\",\"surprise_train\")"
      ],
      "execution_count": 0,
      "outputs": [
        {
          "output_type": "execute_result",
          "data": {
            "text/plain": [
              "'surprise_train/photo33.png'"
            ]
          },
          "metadata": {
            "tags": []
          },
          "execution_count": 71
        }
      ]
    },
    {
      "cell_type": "markdown",
      "metadata": {
        "id": "tAJhKCw07edW",
        "colab_type": "text"
      },
      "source": [
        "**TEST : 2**"
      ]
    },
    {
      "cell_type": "code",
      "metadata": {
        "id": "Tzo66AVkzG8n",
        "colab_type": "code",
        "outputId": "04197e3f-ff04-44db-a570-bc97a77ea0c1",
        "colab": {
          "base_uri": "https://localhost:8080/",
          "height": 243
        }
      },
      "source": [
        "web_pic=picture_crop('photo.jpg')\n",
        "\n",
        "cv2_imshow(web_pic)\n",
        "res=cv2.resize(web_pic,(48,48))\n",
        "\n",
        "sample = convert_dtype(res)\n",
        "sample = normalize(sample)\n",
        "sample=sample.reshape((1,48,48))\n",
        "\n",
        "sample = reshape(sample)\n",
        "\n",
        "yoyo=model.predict(sample)\n",
        "g=yoyo.argmax(axis=1)\n"
      ],
      "execution_count": 0,
      "outputs": [
        {
          "output_type": "display_data",
          "data": {
            "image/png": "[encoded data removed]",
            "text/plain": [
              "<PIL.Image.Image image mode=L size=209x209 at 0x7F75C976AB70>"
            ]
          },
          "metadata": {
            "tags": []
          }
        },
        {
          "output_type": "stream",
          "text": [
            "(1, 48, 48)\n"
          ],
          "name": "stdout"
        }
      ]
    },
    {
      "cell_type": "code",
      "metadata": {
        "id": "UAT5MgiQ1-ra",
        "colab_type": "code",
        "outputId": "8a20edf4-ee9b-42bb-a3a0-72ba802349de",
        "colab": {
          "base_uri": "https://localhost:8080/",
          "height": 51
        }
      },
      "source": [
        "print(g)\n",
        "s=g[0]\n",
        "#print(s)\n",
        "print(result[s])"
      ],
      "execution_count": 0,
      "outputs": [
        {
          "output_type": "stream",
          "text": [
            "[2]\n",
            "happiness\n"
          ],
          "name": "stdout"
        }
      ]
    },
    {
      "cell_type": "markdown",
      "metadata": {
        "id": "E_oUxgFh7isV",
        "colab_type": "text"
      },
      "source": [
        "**TEST : 3**"
      ]
    },
    {
      "cell_type": "code",
      "metadata": {
        "id": "jsnIEoavPhC5",
        "colab_type": "code",
        "colab": {}
      },
      "source": [
        "take_photo()\n",
        "\n",
        "result=['anger','fear','happiness','sadness','contempt','disgust','surprise','neutral']\n",
        "web_pic=picture_crop('photo.jpg')\n",
        "\n",
        "cv2_imshow(web_pic)\n",
        "res=cv2.resize(web_pic,(48,48))\n",
        "\n",
        "sample = convert_dtype(res)\n",
        "sample = normalize(sample)\n",
        "sample=sample.reshape((1,48,48))\n",
        "\n",
        "sample = reshape(sample)\n",
        "\n",
        "yoyo=model.predict(sample)\n",
        "g1=yoyo.argmax(axis=1)\n"
      ],
      "execution_count": 0,
      "outputs": []
    },
    {
      "cell_type": "code",
      "metadata": {
        "id": "yZ2L53-CQeJf",
        "colab_type": "code",
        "outputId": "c7ab3151-4020-46c0-f9df-b79b8c277b3c",
        "colab": {
          "base_uri": "https://localhost:8080/",
          "height": 34
        }
      },
      "source": [
        "print(g1[0])\n"
      ],
      "execution_count": 0,
      "outputs": [
        {
          "output_type": "stream",
          "text": [
            "6\n"
          ],
          "name": "stdout"
        }
      ]
    },
    {
      "cell_type": "code",
      "metadata": {
        "id": "1nkphI8tQkVo",
        "colab_type": "code",
        "outputId": "cd5a6aa2-276c-4621-8494-d610baac9974",
        "colab": {
          "base_uri": "https://localhost:8080/",
          "height": 34
        }
      },
      "source": [
        "result[g1[0]]"
      ],
      "execution_count": 0,
      "outputs": [
        {
          "output_type": "execute_result",
          "data": {
            "text/plain": [
              "'surprise'"
            ]
          },
          "metadata": {
            "tags": []
          },
          "execution_count": 116
        }
      ]
    },
    {
      "cell_type": "markdown",
      "metadata": {
        "id": "5PsiBEb27lUH",
        "colab_type": "text"
      },
      "source": [
        "**TEST : 4**"
      ]
    },
    {
      "cell_type": "code",
      "metadata": {
        "id": "vq3dvOPMQ2Sa",
        "colab_type": "code",
        "outputId": "864bcdea-4394-48d8-d04d-0c5be8f5e777",
        "colab": {
          "base_uri": "https://localhost:8080/",
          "height": 257
        }
      },
      "source": [
        "take_photo()\n",
        "\n",
        "result=['anger','fear','happiness','sadness','contempt','disgust','surprise','neutral']\n",
        "web_pic=picture_crop('photo.jpg')\n",
        "\n",
        "cv2_imshow(web_pic)\n",
        "res=cv2.resize(web_pic,(48,48))\n",
        "\n",
        "sample = convert_dtype(res)\n",
        "sample = normalize(sample)\n",
        "sample=sample.reshape((1,48,48))\n",
        "\n",
        "sample = reshape(sample)\n",
        "\n",
        "yoyo=model.predict(sample)\n",
        "g=yoyo.argmax(axis=1)"
      ],
      "execution_count": 0,
      "outputs": [
        {
          "output_type": "display_data",
          "data": {
            "application/javascript": [
              "\n",
              "    async function takePhoto(quality) {\n",
              "      const div = document.createElement('div');\n",
              "      const capture = document.createElement('button');\n",
              "      capture.textContent = 'Capture';\n",
              "      div.appendChild(capture);\n",
              "\n",
              "      const video = document.createElement('video');\n",
              "      video.style.display = 'block';\n",
              "      const stream = await navigator.mediaDevices.getUserMedia({video: true});\n",
              "\n",
              "      document.body.appendChild(div);\n",
              "      div.appendChild(video);\n",
              "      video.srcObject = stream;\n",
              "      await video.play();\n",
              "\n",
              "      // Resize the output to fit the video element.\n",
              "      google.colab.output.setIframeHeight(document.documentElement.scrollHeight, true);\n",
              "\n",
              "      // Wait for Capture to be clicked.\n",
              "      await new Promise((resolve) => capture.onclick = resolve);\n",
              "\n",
              "      const canvas = document.createElement('canvas');\n",
              "      canvas.width = video.videoWidth;\n",
              "      canvas.height = video.videoHeight;\n",
              "      canvas.getContext('2d').drawImage(video, 0, 0);\n",
              "      stream.getVideoTracks()[0].stop();\n",
              "      div.remove();\n",
              "      return canvas.toDataURL('image/jpeg', quality);\n",
              "    }\n",
              "    "
            ],
            "text/plain": [
              "<IPython.core.display.Javascript object>"
            ]
          },
          "metadata": {
            "tags": []
          }
        },
        {
          "output_type": "display_data",
          "data": {
            "image/png": "[encoded data removed]",
            "text/plain": [
              "<PIL.Image.Image image mode=L size=223x223 at 0x7F75C80BF128>"
            ]
          },
          "metadata": {
            "tags": []
          }
        },
        {
          "output_type": "stream",
          "text": [
            "(1, 48, 48)\n"
          ],
          "name": "stdout"
        }
      ]
    },
    {
      "cell_type": "code",
      "metadata": {
        "id": "d2VyPj75Tvei",
        "colab_type": "code",
        "outputId": "2ca6f275-3443-46e9-a796-37ce8a99619c",
        "colab": {
          "base_uri": "https://localhost:8080/",
          "height": 34
        }
      },
      "source": [
        "print(g)"
      ],
      "execution_count": 0,
      "outputs": [
        {
          "output_type": "stream",
          "text": [
            "[4]\n"
          ],
          "name": "stdout"
        }
      ]
    },
    {
      "cell_type": "code",
      "metadata": {
        "id": "KFp9qmAXT777",
        "colab_type": "code",
        "outputId": "f7517d6c-dbf5-4359-9b3b-5fed34c3dba5",
        "colab": {
          "base_uri": "https://localhost:8080/",
          "height": 34
        }
      },
      "source": [
        "print(result[g[0]])"
      ],
      "execution_count": 0,
      "outputs": [
        {
          "output_type": "stream",
          "text": [
            "contempt\n"
          ],
          "name": "stdout"
        }
      ]
    },
    {
      "cell_type": "markdown",
      "metadata": {
        "id": "WlLqOrbY7ouc",
        "colab_type": "text"
      },
      "source": [
        "**TEST : 5**"
      ]
    },
    {
      "cell_type": "code",
      "metadata": {
        "id": "73wGWO6-UWkZ",
        "colab_type": "code",
        "outputId": "a8f66854-f8f9-4c9a-946f-b6abeb7717ea",
        "colab": {
          "base_uri": "https://localhost:8080/",
          "height": 189
        }
      },
      "source": [
        "take_photo()\n",
        "\n",
        "result=['anger','fear','happiness','sadness','contempt','disgust','surprise','neutral']\n",
        "web_pic=picture_crop('photo.jpg')\n",
        "\n",
        "cv2_imshow(web_pic)\n",
        "res=cv2.resize(web_pic,(48,48))\n",
        "\n",
        "sample = convert_dtype(res)\n",
        "sample = normalize(sample)\n",
        "sample=sample.reshape((1,48,48))\n",
        "\n",
        "sample = reshape(sample)\n",
        "\n",
        "yoyo=model.predict(sample)\n",
        "g3=yoyo.argmax(axis=1)\n",
        "print(result[g3[0]])"
      ],
      "execution_count": 0,
      "outputs": [
        {
          "output_type": "display_data",
          "data": {
            "application/javascript": [
              "\n",
              "    async function takePhoto(quality) {\n",
              "      const div = document.createElement('div');\n",
              "      const capture = document.createElement('button');\n",
              "      capture.textContent = 'Capture';\n",
              "      div.appendChild(capture);\n",
              "\n",
              "      const video = document.createElement('video');\n",
              "      video.style.display = 'block';\n",
              "      const stream = await navigator.mediaDevices.getUserMedia({video: true});\n",
              "\n",
              "      document.body.appendChild(div);\n",
              "      div.appendChild(video);\n",
              "      video.srcObject = stream;\n",
              "      await video.play();\n",
              "\n",
              "      // Resize the output to fit the video element.\n",
              "      google.colab.output.setIframeHeight(document.documentElement.scrollHeight, true);\n",
              "\n",
              "      // Wait for Capture to be clicked.\n",
              "      await new Promise((resolve) => capture.onclick = resolve);\n",
              "\n",
              "      const canvas = document.createElement('canvas');\n",
              "      canvas.width = video.videoWidth;\n",
              "      canvas.height = video.videoHeight;\n",
              "      canvas.getContext('2d').drawImage(video, 0, 0);\n",
              "      stream.getVideoTracks()[0].stop();\n",
              "      div.remove();\n",
              "      return canvas.toDataURL('image/jpeg', quality);\n",
              "    }\n",
              "    "
            ],
            "text/plain": [
              "<IPython.core.display.Javascript object>"
            ]
          },
          "metadata": {
            "tags": []
          }
        },
        {
          "output_type": "display_data",
          "data": {
            "image/png": "[encoded data removed]",
            "text/plain": [
              "<PIL.Image.Image image mode=L size=138x138 at 0x7F75C8130CC0>"
            ]
          },
          "metadata": {
            "tags": []
          }
        },
        {
          "output_type": "stream",
          "text": [
            "(1, 48, 48)\n",
            "happiness\n"
          ],
          "name": "stdout"
        }
      ]
    },
    {
      "cell_type": "markdown",
      "metadata": {
        "id": "Yp0DuLDx7r8r",
        "colab_type": "text"
      },
      "source": [
        "**TEST :  6**"
      ]
    },
    {
      "cell_type": "code",
      "metadata": {
        "id": "Xa7QlTsVVInZ",
        "colab_type": "code",
        "outputId": "95fa823c-7f80-4a79-d1ab-5f2547f10d73",
        "colab": {
          "base_uri": "https://localhost:8080/",
          "height": 256
        }
      },
      "source": [
        "take_photo()\n",
        "\n",
        "result=['anger','fear','happiness','sadness','contempt','disgust','surprise','neutral']\n",
        "web_pic=picture_crop('photo.jpg')\n",
        "\n",
        "cv2_imshow(web_pic)\n",
        "res=cv2.resize(web_pic,(48,48))\n",
        "\n",
        "sample = convert_dtype(res)\n",
        "sample = normalize(sample)\n",
        "sample=sample.reshape((1,48,48))\n",
        "\n",
        "sample = reshape(sample)\n",
        "\n",
        "yoyo=model.predict(sample)\n",
        "g5=yoyo.argmax(axis=1)\n",
        "print(result[g5[0]])"
      ],
      "execution_count": 0,
      "outputs": [
        {
          "output_type": "display_data",
          "data": {
            "application/javascript": [
              "\n",
              "    async function takePhoto(quality) {\n",
              "      const div = document.createElement('div');\n",
              "      const capture = document.createElement('button');\n",
              "      capture.textContent = 'Capture';\n",
              "      div.appendChild(capture);\n",
              "\n",
              "      const video = document.createElement('video');\n",
              "      video.style.display = 'block';\n",
              "      const stream = await navigator.mediaDevices.getUserMedia({video: true});\n",
              "\n",
              "      document.body.appendChild(div);\n",
              "      div.appendChild(video);\n",
              "      video.srcObject = stream;\n",
              "      await video.play();\n",
              "\n",
              "      // Resize the output to fit the video element.\n",
              "      google.colab.output.setIframeHeight(document.documentElement.scrollHeight, true);\n",
              "\n",
              "      // Wait for Capture to be clicked.\n",
              "      await new Promise((resolve) => capture.onclick = resolve);\n",
              "\n",
              "      const canvas = document.createElement('canvas');\n",
              "      canvas.width = video.videoWidth;\n",
              "      canvas.height = video.videoHeight;\n",
              "      canvas.getContext('2d').drawImage(video, 0, 0);\n",
              "      stream.getVideoTracks()[0].stop();\n",
              "      div.remove();\n",
              "      return canvas.toDataURL('image/jpeg', quality);\n",
              "    }\n",
              "    "
            ],
            "text/plain": [
              "<IPython.core.display.Javascript object>"
            ]
          },
          "metadata": {
            "tags": []
          }
        },
        {
          "output_type": "display_data",
          "data": {
            "image/png": "[encoded data removed]",
            "text/plain": [
              "<PIL.Image.Image image mode=L size=205x205 at 0x7F75C80FF390>"
            ]
          },
          "metadata": {
            "tags": []
          }
        },
        {
          "output_type": "stream",
          "text": [
            "(1, 48, 48)\n",
            "disgust\n"
          ],
          "name": "stdout"
        }
      ]
    },
    {
      "cell_type": "markdown",
      "metadata": {
        "id": "kbhBF3Yd7vyi",
        "colab_type": "text"
      },
      "source": [
        "**TEST : 7**"
      ]
    },
    {
      "cell_type": "code",
      "metadata": {
        "id": "ydzFycWYVqgP",
        "colab_type": "code",
        "outputId": "9343cb70-1c32-444a-ca35-59dc37a46208",
        "colab": {
          "base_uri": "https://localhost:8080/",
          "height": 331
        }
      },
      "source": [
        "take_photo()\n",
        "\n",
        "result=['anger','fear','happiness','sadness','contempt','disgust','surprise','neutral']\n",
        "web_pic=picture_crop('photo.jpg')\n",
        "\n",
        "cv2_imshow(web_pic)\n",
        "res=cv2.resize(web_pic,(48,48))\n",
        "\n",
        "sample = convert_dtype(res)\n",
        "sample = normalize(sample)\n",
        "sample=sample.reshape((1,48,48))\n",
        "\n",
        "sample = reshape(sample)\n",
        "\n",
        "yoyo=model.predict(sample)\n",
        "g7=yoyo.argmax(axis=1)\n",
        "print(result[g7[0]])"
      ],
      "execution_count": 0,
      "outputs": [
        {
          "output_type": "display_data",
          "data": {
            "application/javascript": [
              "\n",
              "    async function takePhoto(quality) {\n",
              "      const div = document.createElement('div');\n",
              "      const capture = document.createElement('button');\n",
              "      capture.textContent = 'Capture';\n",
              "      div.appendChild(capture);\n",
              "\n",
              "      const video = document.createElement('video');\n",
              "      video.style.display = 'block';\n",
              "      const stream = await navigator.mediaDevices.getUserMedia({video: true});\n",
              "\n",
              "      document.body.appendChild(div);\n",
              "      div.appendChild(video);\n",
              "      video.srcObject = stream;\n",
              "      await video.play();\n",
              "\n",
              "      // Resize the output to fit the video element.\n",
              "      google.colab.output.setIframeHeight(document.documentElement.scrollHeight, true);\n",
              "\n",
              "      // Wait for Capture to be clicked.\n",
              "      await new Promise((resolve) => capture.onclick = resolve);\n",
              "\n",
              "      const canvas = document.createElement('canvas');\n",
              "      canvas.width = video.videoWidth;\n",
              "      canvas.height = video.videoHeight;\n",
              "      canvas.getContext('2d').drawImage(video, 0, 0);\n",
              "      stream.getVideoTracks()[0].stop();\n",
              "      div.remove();\n",
              "      return canvas.toDataURL('image/jpeg', quality);\n",
              "    }\n",
              "    "
            ],
            "text/plain": [
              "<IPython.core.display.Javascript object>"
            ]
          },
          "metadata": {
            "tags": []
          }
        },
        {
          "output_type": "display_data",
          "data": {
            "image/png": "[encoded data removed]",
            "text/plain": [
              "<PIL.Image.Image image mode=L size=280x280 at 0x7F75C811AD30>"
            ]
          },
          "metadata": {
            "tags": []
          }
        },
        {
          "output_type": "stream",
          "text": [
            "(1, 48, 48)\n",
            "anger\n"
          ],
          "name": "stdout"
        }
      ]
    },
    {
      "cell_type": "markdown",
      "metadata": {
        "id": "LqnTvAE270Nk",
        "colab_type": "text"
      },
      "source": [
        "**TEST : 8**"
      ]
    },
    {
      "cell_type": "code",
      "metadata": {
        "id": "8Hn0RpX6XfqD",
        "colab_type": "code",
        "outputId": "6d436fe8-3677-4f40-9029-7e34f8efc59e",
        "colab": {
          "base_uri": "https://localhost:8080/",
          "height": 263
        }
      },
      "source": [
        "take_photo()\n",
        "\n",
        "result=['anger','fear','happiness','sadness','contempt','disgust','surprise','neutral']\n",
        "web_pic=picture_crop('photo.jpg')\n",
        "\n",
        "cv2_imshow(web_pic)\n",
        "res=cv2.resize(web_pic,(48,48))\n",
        "\n",
        "sample = convert_dtype(res)\n",
        "sample = normalize(sample)\n",
        "sample=sample.reshape((1,48,48))\n",
        "\n",
        "sample = reshape(sample)\n",
        "\n",
        "yoyo=model.predict(sample)\n",
        "g10=yoyo.argmax(axis=1)\n",
        "print(result[g10[0]])"
      ],
      "execution_count": 0,
      "outputs": [
        {
          "output_type": "display_data",
          "data": {
            "application/javascript": [
              "\n",
              "    async function takePhoto(quality) {\n",
              "      const div = document.createElement('div');\n",
              "      const capture = document.createElement('button');\n",
              "      capture.textContent = 'Capture';\n",
              "      div.appendChild(capture);\n",
              "\n",
              "      const video = document.createElement('video');\n",
              "      video.style.display = 'block';\n",
              "      const stream = await navigator.mediaDevices.getUserMedia({video: true});\n",
              "\n",
              "      document.body.appendChild(div);\n",
              "      div.appendChild(video);\n",
              "      video.srcObject = stream;\n",
              "      await video.play();\n",
              "\n",
              "      // Resize the output to fit the video element.\n",
              "      google.colab.output.setIframeHeight(document.documentElement.scrollHeight, true);\n",
              "\n",
              "      // Wait for Capture to be clicked.\n",
              "      await new Promise((resolve) => capture.onclick = resolve);\n",
              "\n",
              "      const canvas = document.createElement('canvas');\n",
              "      canvas.width = video.videoWidth;\n",
              "      canvas.height = video.videoHeight;\n",
              "      canvas.getContext('2d').drawImage(video, 0, 0);\n",
              "      stream.getVideoTracks()[0].stop();\n",
              "      div.remove();\n",
              "      return canvas.toDataURL('image/jpeg', quality);\n",
              "    }\n",
              "    "
            ],
            "text/plain": [
              "<IPython.core.display.Javascript object>"
            ]
          },
          "metadata": {
            "tags": []
          }
        },
        {
          "output_type": "display_data",
          "data": {
            "image/png": "[encoded data removed]",
            "text/plain": [
              "<PIL.Image.Image image mode=L size=212x212 at 0x7F75C800DE48>"
            ]
          },
          "metadata": {
            "tags": []
          }
        },
        {
          "output_type": "stream",
          "text": [
            "(1, 48, 48)\n",
            "contempt\n"
          ],
          "name": "stdout"
        }
      ]
    },
    {
      "cell_type": "markdown",
      "metadata": {
        "id": "KB6K8vHP777y",
        "colab_type": "text"
      },
      "source": [
        "**TEST : 9**"
      ]
    },
    {
      "cell_type": "code",
      "metadata": {
        "id": "gGafIhr2ZqSG",
        "colab_type": "code",
        "outputId": "ec6fa5ed-c19a-4d76-bd86-49beca0a1ad5",
        "colab": {
          "base_uri": "https://localhost:8080/",
          "height": 258
        }
      },
      "source": [
        "take_photo()\n",
        "\n",
        "result=['anger','fear','happiness','sadness','contempt','disgust','surprise','neutral']\n",
        "web_pic=picture_crop('photo.jpg')\n",
        "\n",
        "cv2_imshow(web_pic)\n",
        "res=cv2.resize(web_pic,(48,48))\n",
        "\n",
        "sample = convert_dtype(res)\n",
        "sample = normalize(sample)\n",
        "sample=sample.reshape((1,48,48))\n",
        "\n",
        "sample = reshape(sample)\n",
        "\n",
        "yoyo=model.predict(sample)\n",
        "g11=yoyo.argmax(axis=1)\n",
        "print(result[g11[0]])"
      ],
      "execution_count": 0,
      "outputs": [
        {
          "output_type": "display_data",
          "data": {
            "application/javascript": [
              "\n",
              "    async function takePhoto(quality) {\n",
              "      const div = document.createElement('div');\n",
              "      const capture = document.createElement('button');\n",
              "      capture.textContent = 'Capture';\n",
              "      div.appendChild(capture);\n",
              "\n",
              "      const video = document.createElement('video');\n",
              "      video.style.display = 'block';\n",
              "      const stream = await navigator.mediaDevices.getUserMedia({video: true});\n",
              "\n",
              "      document.body.appendChild(div);\n",
              "      div.appendChild(video);\n",
              "      video.srcObject = stream;\n",
              "      await video.play();\n",
              "\n",
              "      // Resize the output to fit the video element.\n",
              "      google.colab.output.setIframeHeight(document.documentElement.scrollHeight, true);\n",
              "\n",
              "      // Wait for Capture to be clicked.\n",
              "      await new Promise((resolve) => capture.onclick = resolve);\n",
              "\n",
              "      const canvas = document.createElement('canvas');\n",
              "      canvas.width = video.videoWidth;\n",
              "      canvas.height = video.videoHeight;\n",
              "      canvas.getContext('2d').drawImage(video, 0, 0);\n",
              "      stream.getVideoTracks()[0].stop();\n",
              "      div.remove();\n",
              "      return canvas.toDataURL('image/jpeg', quality);\n",
              "    }\n",
              "    "
            ],
            "text/plain": [
              "<IPython.core.display.Javascript object>"
            ]
          },
          "metadata": {
            "tags": []
          }
        },
        {
          "output_type": "display_data",
          "data": {
            "image/png": "[encoded data removed]",
            "text/plain": [
              "<PIL.Image.Image image mode=L size=207x207 at 0x7F75C8045780>"
            ]
          },
          "metadata": {
            "tags": []
          }
        },
        {
          "output_type": "stream",
          "text": [
            "(1, 48, 48)\n",
            "disgust\n"
          ],
          "name": "stdout"
        }
      ]
    },
    {
      "cell_type": "markdown",
      "metadata": {
        "id": "FcM__J4y7_NN",
        "colab_type": "text"
      },
      "source": [
        "**TEST : 10**"
      ]
    },
    {
      "cell_type": "code",
      "metadata": {
        "id": "-hla6Is0e06S",
        "colab_type": "code",
        "outputId": "0c9333b9-5ba8-4bdb-ba6b-3b1cc34a16b3",
        "colab": {
          "base_uri": "https://localhost:8080/",
          "height": 243
        }
      },
      "source": [
        "take_photo()\n",
        "\n",
        "result=['anger','fear','happiness','sadness','contempt','disgust','surprise','neutral']\n",
        "web_pic=picture_crop('photo.jpg')\n",
        "\n",
        "cv2_imshow(web_pic)\n",
        "res=cv2.resize(web_pic,(48,48))\n",
        "\n",
        "sample = convert_dtype(res)\n",
        "sample = normalize(sample)\n",
        "sample=sample.reshape((1,48,48))\n",
        "\n",
        "sample = reshape(sample)\n",
        "\n",
        "yoyo=model.predict(sample)\n",
        "g13=yoyo.argmax(axis=1)\n",
        "print(result[g13[0]])"
      ],
      "execution_count": 0,
      "outputs": [
        {
          "output_type": "display_data",
          "data": {
            "application/javascript": [
              "\n",
              "    async function takePhoto(quality) {\n",
              "      const div = document.createElement('div');\n",
              "      const capture = document.createElement('button');\n",
              "      capture.textContent = 'Capture';\n",
              "      div.appendChild(capture);\n",
              "\n",
              "      const video = document.createElement('video');\n",
              "      video.style.display = 'block';\n",
              "      const stream = await navigator.mediaDevices.getUserMedia({video: true});\n",
              "\n",
              "      document.body.appendChild(div);\n",
              "      div.appendChild(video);\n",
              "      video.srcObject = stream;\n",
              "      await video.play();\n",
              "\n",
              "      // Resize the output to fit the video element.\n",
              "      google.colab.output.setIframeHeight(document.documentElement.scrollHeight, true);\n",
              "\n",
              "      // Wait for Capture to be clicked.\n",
              "      await new Promise((resolve) => capture.onclick = resolve);\n",
              "\n",
              "      const canvas = document.createElement('canvas');\n",
              "      canvas.width = video.videoWidth;\n",
              "      canvas.height = video.videoHeight;\n",
              "      canvas.getContext('2d').drawImage(video, 0, 0);\n",
              "      stream.getVideoTracks()[0].stop();\n",
              "      div.remove();\n",
              "      return canvas.toDataURL('image/jpeg', quality);\n",
              "    }\n",
              "    "
            ],
            "text/plain": [
              "<IPython.core.display.Javascript object>"
            ]
          },
          "metadata": {
            "tags": []
          }
        },
        {
          "output_type": "display_data",
          "data": {
            "image/png": "[encoded data removed]",
            "text/plain": [
              "<PIL.Image.Image image mode=L size=192x192 at 0x7F75C8028E80>"
            ]
          },
          "metadata": {
            "tags": []
          }
        },
        {
          "output_type": "stream",
          "text": [
            "(1, 48, 48)\n",
            "disgust\n"
          ],
          "name": "stdout"
        }
      ]
    },
    {
      "cell_type": "markdown",
      "metadata": {
        "id": "poiFC6Re8CwD",
        "colab_type": "text"
      },
      "source": [
        "**TEST : 11**"
      ]
    },
    {
      "cell_type": "code",
      "metadata": {
        "id": "IT-T4yQ8EXo0",
        "colab_type": "code",
        "outputId": "5dd95671-af39-4d9e-8a12-50e41bf9ae2d",
        "colab": {
          "base_uri": "https://localhost:8080/",
          "height": 273
        }
      },
      "source": [
        "take_photo()\n",
        "\n",
        "result=['anger','fear','happiness','sadness','contempt','disgust','surprise','neutral']\n",
        "web_pic=picture_crop('photo.jpg')\n",
        "\n",
        "cv2_imshow(web_pic)\n",
        "res=cv2.resize(web_pic,(48,48))\n",
        "\n",
        "sample = convert_dtype(res)\n",
        "sample = normalize(sample)\n",
        "sample=sample.reshape((1,48,48))\n",
        "\n",
        "sample = reshape(sample)\n",
        "\n",
        "yoyo=model.predict(sample)\n",
        "g22=yoyo.argmax(axis=1)\n",
        "print(result[g22[0]])"
      ],
      "execution_count": 0,
      "outputs": [
        {
          "output_type": "display_data",
          "data": {
            "application/javascript": [
              "\n",
              "    async function takePhoto(quality) {\n",
              "      const div = document.createElement('div');\n",
              "      const capture = document.createElement('button');\n",
              "      capture.textContent = 'Capture';\n",
              "      div.appendChild(capture);\n",
              "\n",
              "      const video = document.createElement('video');\n",
              "      video.style.display = 'block';\n",
              "      const stream = await navigator.mediaDevices.getUserMedia({video: true});\n",
              "\n",
              "      document.body.appendChild(div);\n",
              "      div.appendChild(video);\n",
              "      video.srcObject = stream;\n",
              "      await video.play();\n",
              "\n",
              "      // Resize the output to fit the video element.\n",
              "      google.colab.output.setIframeHeight(document.documentElement.scrollHeight, true);\n",
              "\n",
              "      // Wait for Capture to be clicked.\n",
              "      await new Promise((resolve) => capture.onclick = resolve);\n",
              "\n",
              "      const canvas = document.createElement('canvas');\n",
              "      canvas.width = video.videoWidth;\n",
              "      canvas.height = video.videoHeight;\n",
              "      canvas.getContext('2d').drawImage(video, 0, 0);\n",
              "      stream.getVideoTracks()[0].stop();\n",
              "      div.remove();\n",
              "      return canvas.toDataURL('image/jpeg', quality);\n",
              "    }\n",
              "    "
            ],
            "text/plain": [
              "<IPython.core.display.Javascript object>"
            ]
          },
          "metadata": {
            "tags": []
          }
        },
        {
          "output_type": "display_data",
          "data": {
            "image/png": "[encoded data removed]",
            "text/plain": [
              "<PIL.Image.Image image mode=L size=222x222 at 0x7EFCA3D99588>"
            ]
          },
          "metadata": {
            "tags": []
          }
        },
        {
          "output_type": "stream",
          "text": [
            "(1, 48, 48)\n",
            "anger\n"
          ],
          "name": "stdout"
        }
      ]
    },
    {
      "cell_type": "markdown",
      "metadata": {
        "id": "v_HeS08L8E6y",
        "colab_type": "text"
      },
      "source": [
        "**TEST : 12**"
      ]
    },
    {
      "cell_type": "code",
      "metadata": {
        "id": "rFISbM29Gt4Q",
        "colab_type": "code",
        "outputId": "be3a877f-970c-4240-d018-cfb5cb675f98",
        "colab": {
          "base_uri": "https://localhost:8080/",
          "height": 161
        }
      },
      "source": [
        "take_photo()\n",
        "\n",
        "result=['anger','fear','happiness','sadness','contempt','neutral','disgust','surprise']\n",
        "web_pic=picture_crop('photo.jpg')\n",
        "\n",
        "cv2_imshow(web_pic)\n",
        "res=cv2.resize(web_pic,(48,48))\n",
        "\n",
        "sample = convert_dtype(res)\n",
        "sample = normalize(sample)\n",
        "sample=sample.reshape((1,48,48))\n",
        "\n",
        "sample = reshape(sample)\n",
        "\n",
        "yoyo=model.predict(sample)\n",
        "g23=yoyo.argmax(axis=1)\n",
        "print(result[g23[0]])"
      ],
      "execution_count": 0,
      "outputs": [
        {
          "output_type": "display_data",
          "data": {
            "application/javascript": [
              "\n",
              "    async function takePhoto(quality) {\n",
              "      const div = document.createElement('div');\n",
              "      const capture = document.createElement('button');\n",
              "      capture.textContent = 'Capture';\n",
              "      div.appendChild(capture);\n",
              "\n",
              "      const video = document.createElement('video');\n",
              "      video.style.display = 'block';\n",
              "      const stream = await navigator.mediaDevices.getUserMedia({video: true});\n",
              "\n",
              "      document.body.appendChild(div);\n",
              "      div.appendChild(video);\n",
              "      video.srcObject = stream;\n",
              "      await video.play();\n",
              "\n",
              "      // Resize the output to fit the video element.\n",
              "      google.colab.output.setIframeHeight(document.documentElement.scrollHeight, true);\n",
              "\n",
              "      // Wait for Capture to be clicked.\n",
              "      await new Promise((resolve) => capture.onclick = resolve);\n",
              "\n",
              "      const canvas = document.createElement('canvas');\n",
              "      canvas.width = video.videoWidth;\n",
              "      canvas.height = video.videoHeight;\n",
              "      canvas.getContext('2d').drawImage(video, 0, 0);\n",
              "      stream.getVideoTracks()[0].stop();\n",
              "      div.remove();\n",
              "      return canvas.toDataURL('image/jpeg', quality);\n",
              "    }\n",
              "    "
            ],
            "text/plain": [
              "<IPython.core.display.Javascript object>"
            ]
          },
          "metadata": {
            "tags": []
          }
        },
        {
          "output_type": "display_data",
          "data": {
            "image/png": "[encoded data removed]",
            "text/plain": [
              "<PIL.Image.Image image mode=L size=110x110 at 0x7EFC9B5AEA58>"
            ]
          },
          "metadata": {
            "tags": []
          }
        },
        {
          "output_type": "stream",
          "text": [
            "(1, 48, 48)\n",
            "neutral\n"
          ],
          "name": "stdout"
        }
      ]
    },
    {
      "cell_type": "markdown",
      "metadata": {
        "id": "wSPPfJ0p8Ihm",
        "colab_type": "text"
      },
      "source": [
        "**TEST : 13**"
      ]
    },
    {
      "cell_type": "code",
      "metadata": {
        "id": "TrRozzt94U0C",
        "colab_type": "code",
        "outputId": "e9f3cf3c-3e2f-493f-f514-fac46194f0d0",
        "colab": {
          "base_uri": "https://localhost:8080/",
          "height": 245
        }
      },
      "source": [
        "take_photo()\n",
        "\n",
        "result=['anger','fear','happiness','sadness','contempt','disgust','surprise','neutral']\n",
        "web_pic=picture_crop('photo.jpg')\n",
        "\n",
        "cv2_imshow(web_pic)\n",
        "res=cv2.resize(web_pic,(48,48))\n",
        "\n",
        "sample = convert_dtype(res)\n",
        "sample = normalize(sample)\n",
        "sample=sample.reshape((1,48,48))\n",
        "\n",
        "sample = reshape(sample)\n",
        "\n",
        "yoyo=model.predict(sample)\n",
        "g21=yoyo.argmax(axis=1)\n",
        "print(result[g21[0]])"
      ],
      "execution_count": 0,
      "outputs": [
        {
          "output_type": "display_data",
          "data": {
            "application/javascript": [
              "\n",
              "    async function takePhoto(quality) {\n",
              "      const div = document.createElement('div');\n",
              "      const capture = document.createElement('button');\n",
              "      capture.textContent = 'Capture';\n",
              "      div.appendChild(capture);\n",
              "\n",
              "      const video = document.createElement('video');\n",
              "      video.style.display = 'block';\n",
              "      const stream = await navigator.mediaDevices.getUserMedia({video: true});\n",
              "\n",
              "      document.body.appendChild(div);\n",
              "      div.appendChild(video);\n",
              "      video.srcObject = stream;\n",
              "      await video.play();\n",
              "\n",
              "      // Resize the output to fit the video element.\n",
              "      google.colab.output.setIframeHeight(document.documentElement.scrollHeight, true);\n",
              "\n",
              "      // Wait for Capture to be clicked.\n",
              "      await new Promise((resolve) => capture.onclick = resolve);\n",
              "\n",
              "      const canvas = document.createElement('canvas');\n",
              "      canvas.width = video.videoWidth;\n",
              "      canvas.height = video.videoHeight;\n",
              "      canvas.getContext('2d').drawImage(video, 0, 0);\n",
              "      stream.getVideoTracks()[0].stop();\n",
              "      div.remove();\n",
              "      return canvas.toDataURL('image/jpeg', quality);\n",
              "    }\n",
              "    "
            ],
            "text/plain": [
              "<IPython.core.display.Javascript object>"
            ]
          },
          "metadata": {
            "tags": []
          }
        },
        {
          "output_type": "display_data",
          "data": {
            "image/png": "[encoded data removed]",
            "text/plain": [
              "<PIL.Image.Image image mode=L size=194x194 at 0x7EFC778F35C0>"
            ]
          },
          "metadata": {
            "tags": []
          }
        },
        {
          "output_type": "stream",
          "text": [
            "(1, 48, 48)\n",
            "fear\n"
          ],
          "name": "stdout"
        }
      ]
    },
    {
      "cell_type": "markdown",
      "metadata": {
        "id": "GfVMZilf6AUc",
        "colab_type": "text"
      },
      "source": [
        "**Backpropagating  wrongly classified image into the correct labelled folder**\n",
        "\n",
        "---\n",
        "\n",
        "\n",
        "**Thus making model robust**"
      ]
    },
    {
      "cell_type": "markdown",
      "metadata": {
        "id": "e-Sm9hRL6YMM",
        "colab_type": "text"
      },
      "source": [
        "Using Shutil library"
      ]
    },
    {
      "cell_type": "code",
      "metadata": {
        "id": "nipQzT5l14kn",
        "colab_type": "code",
        "outputId": "bd29f1b0-fdf7-4078-a13a-af669196f73e",
        "colab": {
          "base_uri": "https://localhost:8080/",
          "height": 34
        }
      },
      "source": [
        "shutil.move(\"photo3.png\",\"neutral_train\")"
      ],
      "execution_count": 0,
      "outputs": [
        {
          "output_type": "execute_result",
          "data": {
            "text/plain": [
              "'neutral_train'"
            ]
          },
          "metadata": {
            "tags": []
          },
          "execution_count": 68
        }
      ]
    }
  ]
}